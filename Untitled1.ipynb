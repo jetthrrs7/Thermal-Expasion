{
 "cells": [
  {
   "cell_type": "markdown",
   "metadata": {},
   "source": [
    "#Thermal Expasion Lab"
   ]
  },
  {
   "cell_type": "code",
   "execution_count": 22,
   "metadata": {},
   "outputs": [
    {
     "name": "stdout",
     "output_type": "stream",
     "text": [
      "61.0\n",
      "0.117\n",
      "2.7167603213672042e-05\n",
      "0.4242640687119285\n",
      "3.788658433142018e-07\n",
      "α =  2.7167603213672042e-05 +/- 3.788658433142018e-07 C^-1\n"
     ]
    }
   ],
   "source": [
    "#Aluminum Tuble\n",
    "#Change of Tempature (C)\n",
    "import numpy as np \n",
    "\n",
    "Ti = 24.89\n",
    "Tf = 85.89\n",
    "dT = Tf - Ti\n",
    "print(dT)\n",
    "\n",
    "#Change in Length (cm)\n",
    "\n",
    "Li = 0\n",
    "Lf = 0.117\n",
    "dL = Lf - Li\n",
    "print(dL)\n",
    "\n",
    "#Coefficient of Thermal Expansion\n",
    "\n",
    "L = 70.6\n",
    "\n",
    "Coeff = dL/(L * dT)\n",
    "print(Coeff)\n",
    "\n",
    "#Uncertainty of dT\n",
    "\n",
    "uncerntT = 0.3\n",
    "\n",
    "uncerntdT = np.sqrt((uncerntT**2) + (uncerntT**2))\n",
    "print(uncerntdT)\n",
    "\n",
    "#Uncerntainty of dL\n",
    "\n",
    "uncerntdL = 0.001\n",
    "\n",
    "x = np.sqrt((uncerntdL**2) + (uncerntdL**2))\n",
    "\n",
    "\n",
    "#Uncertainty of Coefficient of Thermal Espansion\n",
    "\n",
    "uncerntL = 0.1\n",
    "\n",
    "UncerntCoeff = Coeff * np.sqrt(( x / dL) **2 + ((-1) * uncerntdL / L) **2 + ((-1) * uncerntdT / dT) **2)\n",
    "print(UncerntCoeff)\n",
    "\n",
    "#Value of Coefficient of Thermal Expansion\n",
    "\n",
    "print('α = ',Coeff, \"+/-\", UncerntCoeff, 'C^-1')\n",
    "\n",
    "\n"
   ]
  },
  {
   "cell_type": "code",
   "execution_count": 23,
   "metadata": {},
   "outputs": [
    {
     "name": "stdout",
     "output_type": "stream",
     "text": [
      "62.8\n",
      "0.082\n",
      "1.857371954589521e-05\n",
      "0.4242640687119285\n",
      "3.440317161226867e-07\n",
      "α =  1.857371954589521e-05 +/- 3.440317161226867e-07 C^-1\n"
     ]
    }
   ],
   "source": [
    "#Copper Tube\n",
    "\n",
    "#Change of Tempature (C)\n",
    "import numpy as np \n",
    "\n",
    "Ti = 25.55\n",
    "Tf = 88.35\n",
    "dT = Tf - Ti\n",
    "print(dT)\n",
    "\n",
    "#Change in Length (cm)\n",
    "\n",
    "Li = 0\n",
    "Lf = 0.082\n",
    "dL = Lf - Li\n",
    "print(dL)\n",
    "\n",
    "#Coefficient of Thermal Expansion\n",
    "\n",
    "L = 70.3\n",
    "\n",
    "Coeff = dL/(L * dT)\n",
    "print(Coeff)\n",
    "\n",
    "\n",
    "\n",
    "#Uncertainty of dT\n",
    "\n",
    "uncerntT = 0.3\n",
    "\n",
    "uncerntdT = np.sqrt((uncerntT**2) + (uncerntT**2))\n",
    "print(uncerntdT)\n",
    "\n",
    "#Uncerntainty of dL\n",
    "\n",
    "uncerntdL = 0.001\n",
    "\n",
    "x = np.sqrt((uncerntdL**2) + (uncerntdL**2))\n",
    "\n",
    "\n",
    "#Uncertainty of Coefficient of Thermal Espansion\n",
    "\n",
    "uncerntL = 0.1\n",
    "\n",
    "UncerntCoeff = Coeff * np.sqrt(( x / dL) **2 + ((-1) * uncerntdL / L) **2 + ((-1) * uncerntdT / dT) **2)\n",
    "print(UncerntCoeff)\n",
    "\n",
    "#Value of Coefficient of Thermal Expansion\n",
    "\n",
    "print('α = ',Coeff, \"+/-\", UncerntCoeff, 'C^-1')\n",
    "\n",
    "\n"
   ]
  }
 ],
 "metadata": {
  "kernelspec": {
   "display_name": "Python 3",
   "language": "python",
   "name": "python3"
  },
  "language_info": {
   "codemirror_mode": {
    "name": "ipython",
    "version": 3
   },
   "file_extension": ".py",
   "mimetype": "text/x-python",
   "name": "python",
   "nbconvert_exporter": "python",
   "pygments_lexer": "ipython3",
   "version": "3.8.3"
  }
 },
 "nbformat": 4,
 "nbformat_minor": 4
}
